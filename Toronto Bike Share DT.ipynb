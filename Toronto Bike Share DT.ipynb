{
 "cells": [
  {
   "cell_type": "code",
   "execution_count": 1,
   "metadata": {},
   "outputs": [],
   "source": [
    "import pandas as pd\n",
    "import numpy as np"
   ]
  },
  {
   "cell_type": "code",
   "execution_count": 2,
   "metadata": {},
   "outputs": [],
   "source": [
    "#Model #2: Decision tree\n",
    "import matplotlib.pyplot as plt\n",
    "from sklearn.tree import DecisionTreeRegressor"
   ]
  },
  {
   "cell_type": "code",
   "execution_count": 3,
   "metadata": {},
   "outputs": [],
   "source": [
    "bikeShare = pd.read_csv('bikeshare2020model.csv')"
   ]
  },
  {
   "cell_type": "code",
   "execution_count": 4,
   "metadata": {},
   "outputs": [],
   "source": [
    "regressor = DecisionTreeRegressor(random_state = 0)"
   ]
  },
  {
   "cell_type": "code",
   "execution_count": 5,
   "metadata": {},
   "outputs": [],
   "source": [
    "#splitting out dataset by start station names to create models for each start station\n",
    "dtdf1 = bikeShare.loc[bikeShare['Start Station Name'] == 'Queens Quay E / Lower Sherbourne St']\n",
    "dtdf2 = bikeShare.loc[bikeShare['Start Station Name'] == 'Lake Shore Blvd W / Ontario Dr']\n",
    "dtdf3 = bikeShare.loc[bikeShare['Start Station Name'] == 'Marilyn Bell Park Tennis Court']\n",
    "dtdf4 = bikeShare.loc[bikeShare['Start Station Name'] == 'HTO Park (Queens Quay W)']\n",
    "dtdf5 = bikeShare.loc[bikeShare['Start Station Name'] == 'York St / Queens Quay W']"
   ]
  },
  {
   "cell_type": "code",
   "execution_count": 6,
   "metadata": {},
   "outputs": [],
   "source": [
    "#set X and Y\n",
    "dtX1 = dtdf1[['Time Labels', 'Day of Week', 'Month', 'Day', 'Mean Temp (°C)', 'Total Precip (mm)']]\n",
    "dtX2 = dtdf2[['Time Labels', 'Day of Week', 'Month', 'Day', 'Mean Temp (°C)', 'Total Precip (mm)']]\n",
    "dtX3 = dtdf3[['Time Labels', 'Day of Week', 'Month', 'Day', 'Mean Temp (°C)', 'Total Precip (mm)']]\n",
    "dtX4 = dtdf4[['Time Labels', 'Day of Week', 'Month', 'Day', 'Mean Temp (°C)', 'Total Precip (mm)']]\n",
    "dtX5 = dtdf5[['Time Labels', 'Day of Week', 'Month', 'Day', 'Mean Temp (°C)', 'Total Precip (mm)']]"
   ]
  },
  {
   "cell_type": "code",
   "execution_count": 7,
   "metadata": {},
   "outputs": [],
   "source": [
    "dty1 = dtdf1['Ride Count']\n",
    "dty2 = dtdf2['Ride Count']\n",
    "dty3 = dtdf3['Ride Count']\n",
    "dty4 = dtdf4['Ride Count']\n",
    "dty5 = dtdf5['Ride Count']"
   ]
  },
  {
   "cell_type": "code",
   "execution_count": 8,
   "metadata": {},
   "outputs": [],
   "source": [
    "#split into training and testing\n",
    "from sklearn.model_selection import train_test_split"
   ]
  },
  {
   "cell_type": "code",
   "execution_count": 9,
   "metadata": {},
   "outputs": [],
   "source": [
    "training_features1, testing_features1, training_labels1, testing_labels1 = train_test_split(dtX1, dty1, test_size = 0.25, random_state = 42)\n",
    "training_features2, testing_features2, training_labels2, testing_labels2 = train_test_split(dtX2, dty2, test_size = 0.25, random_state = 42)\n",
    "training_features3, testing_features3, training_labels3, testing_labels3 = train_test_split(dtX3, dty3, test_size = 0.25, random_state = 42)\n",
    "training_features4, testing_features4, training_labels4, testing_labels4 = train_test_split(dtX4, dty4, test_size = 0.25, random_state = 42)\n",
    "training_features5, testing_features5, training_labels5, testing_labels5 = train_test_split(dtX5, dty5, test_size = 0.25, random_state = 42)"
   ]
  },
  {
   "cell_type": "code",
   "execution_count": 10,
   "metadata": {},
   "outputs": [],
   "source": [
    "#train models\n",
    "dtreg1 = regressor.fit(training_features1, training_labels1)\n",
    "dtreg2 = regressor.fit(training_features2, training_labels2)\n",
    "dtreg3 = regressor.fit(training_features3, training_labels3)\n",
    "dtreg4 = regressor.fit(training_features4, training_labels4)\n",
    "dtreg5 = regressor.fit(training_features5, training_labels5)"
   ]
  },
  {
   "cell_type": "code",
   "execution_count": 11,
   "metadata": {},
   "outputs": [],
   "source": [
    "from sklearn.tree import export_graphviz"
   ]
  },
  {
   "cell_type": "code",
   "execution_count": 12,
   "metadata": {},
   "outputs": [],
   "source": [
    "export_graphviz(regressor, out_file ='tree1.dot',\n",
    "               feature_names =['Time Labels', 'Day of Week', 'Month', 'Day', 'Mean Temp (°C)', 'Total Precip (mm)']) "
   ]
  },
  {
   "cell_type": "code",
   "execution_count": 13,
   "metadata": {},
   "outputs": [],
   "source": [
    "#use the models to make predictions\n",
    "y_pred1 = dtreg1.predict(testing_features1)\n",
    "y_pred2 = dtreg2.predict(testing_features2)\n",
    "y_pred3 = dtreg3.predict(testing_features3)\n",
    "y_pred4 = dtreg4.predict(testing_features4)\n",
    "y_pred5 = dtreg5.predict(testing_features5)"
   ]
  },
  {
   "cell_type": "code",
   "execution_count": 14,
   "metadata": {},
   "outputs": [],
   "source": [
    "#evaluate the models\n",
    "from sklearn import metrics"
   ]
  },
  {
   "cell_type": "code",
   "execution_count": 15,
   "metadata": {},
   "outputs": [
    {
     "name": "stdout",
     "output_type": "stream",
     "text": [
      "Mean Absolute Error: 22.661242025777895\n",
      "Mean Squared Error: 1167.3213123291239\n",
      "Root Mean Squared Error: 34.166084240502656\n",
      "r2:  0.6459\n"
     ]
    }
   ],
   "source": [
    "print('Mean Absolute Error:', metrics.mean_absolute_error(testing_labels1, y_pred1))\n",
    "print('Mean Squared Error:', metrics.mean_squared_error(testing_labels1, y_pred1))\n",
    "print('Root Mean Squared Error:', np.sqrt(metrics.mean_squared_error(testing_labels1, y_pred1)))\n",
    "print('r2: ', round(metrics.r2_score(testing_labels1, y_pred1),4))"
   ]
  },
  {
   "cell_type": "code",
   "execution_count": 16,
   "metadata": {},
   "outputs": [
    {
     "name": "stdout",
     "output_type": "stream",
     "text": [
      "Mean Absolute Error: 46.063209290050146\n",
      "Mean Squared Error: 4191.033913961467\n",
      "Root Mean Squared Error: 64.73819517071408\n",
      "r2:  0.3111\n"
     ]
    }
   ],
   "source": [
    "print('Mean Absolute Error:', metrics.mean_absolute_error(testing_labels2, y_pred2))\n",
    "print('Mean Squared Error:', metrics.mean_squared_error(testing_labels2, y_pred2))\n",
    "print('Root Mean Squared Error:', np.sqrt(metrics.mean_squared_error(testing_labels2, y_pred2)))\n",
    "print('r2: ', round(metrics.r2_score(testing_labels2, y_pred2),4))"
   ]
  },
  {
   "cell_type": "code",
   "execution_count": 17,
   "metadata": {},
   "outputs": [
    {
     "name": "stdout",
     "output_type": "stream",
     "text": [
      "Mean Absolute Error: 29.628445925477127\n",
      "Mean Squared Error: 1955.1697970312027\n",
      "Root Mean Squared Error: 44.217302009860376\n",
      "r2:  0.5281\n"
     ]
    }
   ],
   "source": [
    "print('Mean Absolute Error:', metrics.mean_absolute_error(testing_labels3, y_pred3))\n",
    "print('Mean Squared Error:', metrics.mean_squared_error(testing_labels3, y_pred3))\n",
    "print('Root Mean Squared Error:', np.sqrt(metrics.mean_squared_error(testing_labels3, y_pred3)))\n",
    "print('r2: ', round(metrics.r2_score(testing_labels3, y_pred3),4))"
   ]
  },
  {
   "cell_type": "code",
   "execution_count": 18,
   "metadata": {},
   "outputs": [
    {
     "name": "stdout",
     "output_type": "stream",
     "text": [
      "Mean Absolute Error: 19.00786430223593\n",
      "Mean Squared Error: 753.6228218966846\n",
      "Root Mean Squared Error: 27.452191568191502\n",
      "r2:  0.686\n"
     ]
    }
   ],
   "source": [
    "print('Mean Absolute Error:', metrics.mean_absolute_error(testing_labels4, y_pred4))\n",
    "print('Mean Squared Error:', metrics.mean_squared_error(testing_labels4, y_pred4))\n",
    "print('Root Mean Squared Error:', np.sqrt(metrics.mean_squared_error(testing_labels4, y_pred4)))\n",
    "print('r2: ', round(metrics.r2_score(testing_labels4, y_pred4),4))"
   ]
  },
  {
   "cell_type": "code",
   "execution_count": 19,
   "metadata": {},
   "outputs": [
    {
     "name": "stdout",
     "output_type": "stream",
     "text": [
      "Mean Absolute Error: 0.028338813214341632\n",
      "Mean Squared Error: 0.2788476593079693\n",
      "Root Mean Squared Error: 0.5280602799945943\n",
      "r2:  0.9998\n"
     ]
    }
   ],
   "source": [
    "print('Mean Absolute Error:', metrics.mean_absolute_error(testing_labels5, y_pred5))\n",
    "print('Mean Squared Error:', metrics.mean_squared_error(testing_labels5, y_pred5))\n",
    "print('Root Mean Squared Error:', np.sqrt(metrics.mean_squared_error(testing_labels5, y_pred5)))\n",
    "print('r2: ', round(metrics.r2_score(testing_labels5, y_pred5),4))"
   ]
  },
  {
   "cell_type": "code",
   "execution_count": 30,
   "metadata": {},
   "outputs": [],
   "source": [
    "# feature importance for decision tree \n",
    "from sklearn.datasets import make_regression\n",
    "from sklearn.tree import DecisionTreeRegressor\n",
    "from matplotlib import pyplot"
   ]
  },
  {
   "cell_type": "code",
   "execution_count": 32,
   "metadata": {},
   "outputs": [
    {
     "name": "stdout",
     "output_type": "stream",
     "text": [
      "Feature: 0, Score: 0.26356\n",
      "Feature: 1, Score: 0.24165\n",
      "Feature: 2, Score: 0.03370\n",
      "Feature: 3, Score: 0.06398\n",
      "Feature: 4, Score: 0.32579\n",
      "Feature: 5, Score: 0.07131\n"
     ]
    },
    {
     "data": {
      "image/png": "[encoded data removed]",
      "text/plain": [
       "<Figure size 432x288 with 1 Axes>"
      ]
     },
     "metadata": {
      "needs_background": "light"
     },
     "output_type": "display_data"
    }
   ],
   "source": [
    "#get and plot feature importance\n",
    "importance = dtreg1.feature_importances_\n",
    "for i,v in enumerate(importance):\n",
    "    print('Feature: %0d, Score: %.5f' % (i,v))\n",
    "pyplot.bar([x for x in range(len(importance))], importance)\n",
    "pyplot.show()\n",
    "#Time Labels, Day of Week, Mean Temp (°C) are the most important to the model "
   ]
  },
  {
   "cell_type": "code",
   "execution_count": 33,
   "metadata": {},
   "outputs": [],
   "source": [
    "#try new models with just these important features\n",
    "#set X and Y\n",
    "dtX1a = dtdf1[['Time Labels', 'Day of Week', 'Mean Temp (°C)']]\n",
    "dtX2a = dtdf2[['Time Labels', 'Day of Week', 'Mean Temp (°C)']]\n",
    "dtX3a = dtdf3[['Time Labels', 'Day of Week', 'Mean Temp (°C)']]\n",
    "dtX4a = dtdf4[['Time Labels', 'Day of Week', 'Mean Temp (°C)']]\n",
    "dtX5a = dtdf5[['Time Labels', 'Day of Week', 'Mean Temp (°C)']]"
   ]
  },
  {
   "cell_type": "code",
   "execution_count": 34,
   "metadata": {},
   "outputs": [],
   "source": [
    "dty1a = dtdf1['Ride Count']\n",
    "dty2a = dtdf2['Ride Count']\n",
    "dty3a = dtdf3['Ride Count']\n",
    "dty4a = dtdf4['Ride Count']\n",
    "dty5a = dtdf5['Ride Count']"
   ]
  },
  {
   "cell_type": "code",
   "execution_count": 39,
   "metadata": {},
   "outputs": [],
   "source": [
    "training_features1a, testing_features1a, training_labels1a, testing_labels1a = train_test_split(dtX1a, dty1a, test_size = 0.25, random_state = 42)\n",
    "training_features2a, testing_features2a, training_labels2a, testing_labels2a = train_test_split(dtX2a, dty2a, test_size = 0.25, random_state = 42)\n",
    "training_features3a, testing_features3a, training_labels3a, testing_labels3a = train_test_split(dtX3a, dty3a, test_size = 0.25, random_state = 42)\n",
    "training_features4a, testing_features4a, training_labels4a, testing_labels4a = train_test_split(dtX4a, dty4a, test_size = 0.25, random_state = 42)\n",
    "training_features5a, testing_features5a, training_labels5a, testing_labels5a = train_test_split(dtX5a, dty5a, test_size = 0.25, random_state = 42)"
   ]
  },
  {
   "cell_type": "code",
   "execution_count": 40,
   "metadata": {},
   "outputs": [],
   "source": [
    "#train models\n",
    "dtreg1a = regressor.fit(training_features1a, training_labels1a)\n",
    "dtreg2a = regressor.fit(training_features2a, training_labels2a)\n",
    "dtreg3a = regressor.fit(training_features3a, training_labels3a)\n",
    "dtreg4a = regressor.fit(training_features4a, training_labels4a)\n",
    "dtreg5a = regressor.fit(training_features5a, training_labels5a)"
   ]
  },
  {
   "cell_type": "code",
   "execution_count": 41,
   "metadata": {},
   "outputs": [],
   "source": [
    "#use the models to make predictions\n",
    "y_pred1a = dtreg1a.predict(testing_features1a)\n",
    "y_pred2a = dtreg2a.predict(testing_features2a)\n",
    "y_pred3a = dtreg3a.predict(testing_features3a)\n",
    "y_pred4a = dtreg4a.predict(testing_features4a)\n",
    "y_pred5a = dtreg5a.predict(testing_features5a)"
   ]
  },
  {
   "cell_type": "code",
   "execution_count": 43,
   "metadata": {},
   "outputs": [
    {
     "name": "stdout",
     "output_type": "stream",
     "text": [
      "Mean Absolute Error: 22.77078027782838\n",
      "Mean Squared Error: 1180.0212449318728\n",
      "Root Mean Squared Error: 34.35143730518234\n",
      "r2:  0.6421\n"
     ]
    }
   ],
   "source": [
    "print('Mean Absolute Error:', metrics.mean_absolute_error(testing_labels1a, y_pred1a))\n",
    "print('Mean Squared Error:', metrics.mean_squared_error(testing_labels1a, y_pred1a))\n",
    "print('Root Mean Squared Error:', np.sqrt(metrics.mean_squared_error(testing_labels1a, y_pred1a)))\n",
    "print('r2: ', round(metrics.r2_score(testing_labels1a, y_pred1a),4))"
   ]
  },
  {
   "cell_type": "code",
   "execution_count": 44,
   "metadata": {},
   "outputs": [
    {
     "name": "stdout",
     "output_type": "stream",
     "text": [
      "Mean Absolute Error: 46.15741366286193\n",
      "Mean Squared Error: 4218.295861002924\n",
      "Root Mean Squared Error: 64.94840922611517\n",
      "r2:  0.3066\n"
     ]
    }
   ],
   "source": [
    "print('Mean Absolute Error:', metrics.mean_absolute_error(testing_labels2a, y_pred2a))\n",
    "print('Mean Squared Error:', metrics.mean_squared_error(testing_labels2a, y_pred2a))\n",
    "print('Root Mean Squared Error:', np.sqrt(metrics.mean_squared_error(testing_labels2a, y_pred2a)))\n",
    "print('r2: ', round(metrics.r2_score(testing_labels2a, y_pred2a),4))"
   ]
  },
  {
   "cell_type": "code",
   "execution_count": 45,
   "metadata": {},
   "outputs": [
    {
     "name": "stdout",
     "output_type": "stream",
     "text": [
      "Mean Absolute Error: 29.662586755279975\n",
      "Mean Squared Error: 1979.945394961349\n",
      "Root Mean Squared Error: 44.496577339851086\n",
      "r2:  0.5221\n"
     ]
    }
   ],
   "source": [
    "print('Mean Absolute Error:', metrics.mean_absolute_error(testing_labels3a, y_pred3a))\n",
    "print('Mean Squared Error:', metrics.mean_squared_error(testing_labels3a, y_pred3a))\n",
    "print('Root Mean Squared Error:', np.sqrt(metrics.mean_squared_error(testing_labels3a, y_pred3a)))\n",
    "print('r2: ', round(metrics.r2_score(testing_labels3a, y_pred3a),4))"
   ]
  },
  {
   "cell_type": "code",
   "execution_count": 46,
   "metadata": {},
   "outputs": [
    {
     "name": "stdout",
     "output_type": "stream",
     "text": [
      "Mean Absolute Error: 19.261702739920374\n",
      "Mean Squared Error: 781.3279996850539\n",
      "Root Mean Squared Error: 27.952244984706574\n",
      "r2:  0.6745\n"
     ]
    }
   ],
   "source": [
    "print('Mean Absolute Error:', metrics.mean_absolute_error(testing_labels4a, y_pred4a))\n",
    "print('Mean Squared Error:', metrics.mean_squared_error(testing_labels4a, y_pred4a))\n",
    "print('Root Mean Squared Error:', np.sqrt(metrics.mean_squared_error(testing_labels4a, y_pred4a)))\n",
    "print('r2: ', round(metrics.r2_score(testing_labels4a, y_pred4a),4))"
   ]
  },
  {
   "cell_type": "code",
   "execution_count": 47,
   "metadata": {},
   "outputs": [
    {
     "name": "stdout",
     "output_type": "stream",
     "text": [
      "Mean Absolute Error: 1.0917320322581798\n",
      "Mean Squared Error: 33.437911313317805\n",
      "Root Mean Squared Error: 5.782552318251674\n",
      "r2:  0.9779\n"
     ]
    }
   ],
   "source": [
    "print('Mean Absolute Error:', metrics.mean_absolute_error(testing_labels5a, y_pred5a))\n",
    "print('Mean Squared Error:', metrics.mean_squared_error(testing_labels5a, y_pred5a))\n",
    "print('Root Mean Squared Error:', np.sqrt(metrics.mean_squared_error(testing_labels5a, y_pred5a)))\n",
    "print('r2: ', round(metrics.r2_score(testing_labels5a, y_pred5a),4))"
   ]
  }
 ],
 "metadata": {
  "kernelspec": {
   "display_name": "Python 3",
   "language": "python",
   "name": "python3"
  },
  "language_info": {
   "codemirror_mode": {
    "name": "ipython",
    "version": 3
   },
   "file_extension": ".py",
   "mimetype": "text/x-python",
   "name": "python",
   "nbconvert_exporter": "python",
   "pygments_lexer": "ipython3",
   "version": "3.7.6"
  }
 },
 "nbformat": 4,
 "nbformat_minor": 4
}
