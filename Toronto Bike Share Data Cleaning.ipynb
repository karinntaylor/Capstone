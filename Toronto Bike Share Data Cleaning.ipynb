{
 "cells": [
  {
   "cell_type": "code",
   "execution_count": 1,
   "metadata": {},
   "outputs": [],
   "source": [
    "import pandas as pd\n",
    "import numpy as np"
   ]
  },
  {
   "cell_type": "code",
   "execution_count": 2,
   "metadata": {},
   "outputs": [
    {
     "name": "stderr",
     "output_type": "stream",
     "text": [
      "/opt/conda/lib/python3.7/site-packages/IPython/core/interactiveshell.py:3063: DtypeWarning: Columns (0,2,5,8) have mixed types.Specify dtype option on import or set low_memory=False.\n",
      "  interactivity=interactivity, compiler=compiler, result=result)\n"
     ]
    }
   ],
   "source": [
    "df_bikeShare = pd.read_csv('bikeshare-dataset-2020.csv')"
   ]
  },
  {
   "cell_type": "code",
   "execution_count": 15,
   "metadata": {},
   "outputs": [],
   "source": [
    "#remove rows with missing values\n",
    "df_bikeShare.dropna(axis='rows', how='any', inplace=True)"
   ]
  },
  {
   "cell_type": "code",
   "execution_count": 16,
   "metadata": {},
   "outputs": [],
   "source": [
    "#convert 'Trip Duration' data type to numeric\n",
    "df = pd.DataFrame(df_bikeShare)\n",
    "df['Trip  Duration'] = pd.to_numeric(df['Trip  Duration'])"
   ]
  },
  {
   "cell_type": "code",
   "execution_count": 17,
   "metadata": {},
   "outputs": [],
   "source": [
    "#convert 'Start Time' and 'End Time' data typeto date time \n",
    "from datetime import datetime\n",
    "df['Start Time'] =  pd.to_datetime(df['Start Time'], errors='coerce', format=\"%m/%d/%Y %H:%M\")"
   ]
  },
  {
   "cell_type": "code",
   "execution_count": 18,
   "metadata": {},
   "outputs": [],
   "source": [
    "df['End Time'] =  pd.to_datetime(df['End Time'], errors='coerce', format=\"%m/%d/%Y %H:%M\")"
   ]
  },
  {
   "cell_type": "code",
   "execution_count": 19,
   "metadata": {},
   "outputs": [],
   "source": [
    "#split out start date column into day, month, year, time columns\n",
    "df['Start Year'] = df['Start Time'].dt.year\n",
    "df['Start Month'] = df['Start Time'].dt.month\n",
    "df['Start Day'] = df['Start Time'].dt.day\n",
    "\n",
    "df['End Year'] = df['End Time'].dt.year\n",
    "df['End Month'] = df['End Time'].dt.month\n",
    "df['End Day'] = df['End Time'].dt.day"
   ]
  },
  {
   "cell_type": "code",
   "execution_count": 20,
   "metadata": {},
   "outputs": [],
   "source": [
    "df['Trip Start Time'] = df['Start Time'].dt.time\n",
    "\n",
    "df['Trip End Time'] = df['End Time'].dt.time"
   ]
  },
  {
   "cell_type": "code",
   "execution_count": 21,
   "metadata": {},
   "outputs": [],
   "source": [
    "df_bikeShare.dropna(axis='rows', how='any', inplace=True)"
   ]
  },
  {
   "cell_type": "code",
   "execution_count": 22,
   "metadata": {},
   "outputs": [],
   "source": [
    "#Delete redundant columns\n",
    "df_bikeShare.drop(['Start Time', 'End Time'], axis=1, inplace=True)"
   ]
  },
  {
   "cell_type": "code",
   "execution_count": 24,
   "metadata": {},
   "outputs": [
    {
     "name": "stdout",
     "output_type": "stream",
     "text": [
      "791.0\n"
     ]
    }
   ],
   "source": [
    "#Remove outliers - trip duration 1.5*IQR away from the median \n",
    "sorted('Trip  Duration')\n",
    "\n",
    "Q1 = df_bikeShare['Trip  Duration'].quantile(0.25)\n",
    "Q3 = df_bikeShare['Trip  Duration'].quantile(0.75)\n",
    "IQR = Q3 - Q1\n",
    "print(IQR)"
   ]
  },
  {
   "cell_type": "code",
   "execution_count": 25,
   "metadata": {},
   "outputs": [
    {
     "data": {
      "text/html": [
       "<div>\n",
       "<style scoped>\n",
       "    .dataframe tbody tr th:only-of-type {\n",
       "        vertical-align: middle;\n",
       "    }\n",
       "\n",
       "    .dataframe tbody tr th {\n",
       "        vertical-align: top;\n",
       "    }\n",
       "\n",
       "    .dataframe thead th {\n",
       "        text-align: right;\n",
       "    }\n",
       "</style>\n",
       "<table border=\"1\" class=\"dataframe\">\n",
       "  <thead>\n",
       "    <tr style=\"text-align: right;\">\n",
       "      <th></th>\n",
       "      <th>Trip Id</th>\n",
       "      <th>Trip  Duration</th>\n",
       "      <th>Start Station Id</th>\n",
       "      <th>Start Station Name</th>\n",
       "      <th>End Station Id</th>\n",
       "      <th>End Station Name</th>\n",
       "      <th>Bike Id</th>\n",
       "      <th>User Type</th>\n",
       "      <th>Start Year</th>\n",
       "      <th>Start Month</th>\n",
       "      <th>Start Day</th>\n",
       "      <th>End Year</th>\n",
       "      <th>End Month</th>\n",
       "      <th>End Day</th>\n",
       "      <th>Trip Start Time</th>\n",
       "      <th>Trip End Time</th>\n",
       "    </tr>\n",
       "  </thead>\n",
       "  <tbody>\n",
       "    <tr>\n",
       "      <th>0</th>\n",
       "      <td>7334128</td>\n",
       "      <td>648.0</td>\n",
       "      <td>7003</td>\n",
       "      <td>Madison Ave / Bloor St W</td>\n",
       "      <td>7271</td>\n",
       "      <td>Yonge St / Alexander St - SMART</td>\n",
       "      <td>3104</td>\n",
       "      <td>Annual Member</td>\n",
       "      <td>2020</td>\n",
       "      <td>1</td>\n",
       "      <td>1</td>\n",
       "      <td>2020</td>\n",
       "      <td>1</td>\n",
       "      <td>1</td>\n",
       "      <td>00:08:00</td>\n",
       "      <td>00:19:00</td>\n",
       "    </tr>\n",
       "    <tr>\n",
       "      <th>1</th>\n",
       "      <td>7334129</td>\n",
       "      <td>419.0</td>\n",
       "      <td>7007</td>\n",
       "      <td>College St / Huron St</td>\n",
       "      <td>7163</td>\n",
       "      <td>Yonge St / Wood St</td>\n",
       "      <td>2126</td>\n",
       "      <td>Annual Member</td>\n",
       "      <td>2020</td>\n",
       "      <td>1</td>\n",
       "      <td>1</td>\n",
       "      <td>2020</td>\n",
       "      <td>1</td>\n",
       "      <td>1</td>\n",
       "      <td>00:10:00</td>\n",
       "      <td>00:17:00</td>\n",
       "    </tr>\n",
       "    <tr>\n",
       "      <th>2</th>\n",
       "      <td>7334130</td>\n",
       "      <td>566.0</td>\n",
       "      <td>7113</td>\n",
       "      <td>Parliament St / Aberdeen Ave</td>\n",
       "      <td>7108</td>\n",
       "      <td>Front St E / Cherry St</td>\n",
       "      <td>4425</td>\n",
       "      <td>Annual Member</td>\n",
       "      <td>2020</td>\n",
       "      <td>1</td>\n",
       "      <td>1</td>\n",
       "      <td>2020</td>\n",
       "      <td>1</td>\n",
       "      <td>1</td>\n",
       "      <td>00:13:00</td>\n",
       "      <td>00:22:00</td>\n",
       "    </tr>\n",
       "    <tr>\n",
       "      <th>3</th>\n",
       "      <td>7334131</td>\n",
       "      <td>1274.0</td>\n",
       "      <td>7333</td>\n",
       "      <td>King St E / Victoria St</td>\n",
       "      <td>7311</td>\n",
       "      <td>Sherbourne St / Isabella St</td>\n",
       "      <td>4233</td>\n",
       "      <td>Annual Member</td>\n",
       "      <td>2020</td>\n",
       "      <td>1</td>\n",
       "      <td>1</td>\n",
       "      <td>2020</td>\n",
       "      <td>1</td>\n",
       "      <td>1</td>\n",
       "      <td>00:17:00</td>\n",
       "      <td>00:38:00</td>\n",
       "    </tr>\n",
       "    <tr>\n",
       "      <th>4</th>\n",
       "      <td>7334132</td>\n",
       "      <td>906.0</td>\n",
       "      <td>7009</td>\n",
       "      <td>King St E / Jarvis St</td>\n",
       "      <td>7004</td>\n",
       "      <td>University Ave / Elm St</td>\n",
       "      <td>2341</td>\n",
       "      <td>Casual Member</td>\n",
       "      <td>2020</td>\n",
       "      <td>1</td>\n",
       "      <td>1</td>\n",
       "      <td>2020</td>\n",
       "      <td>1</td>\n",
       "      <td>1</td>\n",
       "      <td>00:19:00</td>\n",
       "      <td>00:34:00</td>\n",
       "    </tr>\n",
       "    <tr>\n",
       "      <th>...</th>\n",
       "      <td>...</td>\n",
       "      <td>...</td>\n",
       "      <td>...</td>\n",
       "      <td>...</td>\n",
       "      <td>...</td>\n",
       "      <td>...</td>\n",
       "      <td>...</td>\n",
       "      <td>...</td>\n",
       "      <td>...</td>\n",
       "      <td>...</td>\n",
       "      <td>...</td>\n",
       "      <td>...</td>\n",
       "      <td>...</td>\n",
       "      <td>...</td>\n",
       "      <td>...</td>\n",
       "      <td>...</td>\n",
       "    </tr>\n",
       "    <tr>\n",
       "      <th>2911303</th>\n",
       "      <td>10644213</td>\n",
       "      <td>330.0</td>\n",
       "      <td>7010</td>\n",
       "      <td>King St W / Spadina Ave</td>\n",
       "      <td>7216</td>\n",
       "      <td>Wellington St W / Stafford St</td>\n",
       "      <td>3458</td>\n",
       "      <td>Annual Member</td>\n",
       "      <td>2020</td>\n",
       "      <td>12</td>\n",
       "      <td>31</td>\n",
       "      <td>2020</td>\n",
       "      <td>12</td>\n",
       "      <td>31</td>\n",
       "      <td>23:52:00</td>\n",
       "      <td>23:57:00</td>\n",
       "    </tr>\n",
       "    <tr>\n",
       "      <th>2911304</th>\n",
       "      <td>10644214</td>\n",
       "      <td>216.0</td>\n",
       "      <td>7288</td>\n",
       "      <td>Humber Bay Shores Park West</td>\n",
       "      <td>7514</td>\n",
       "      <td>Humber Bay Shores Park / Marine Parade Dr</td>\n",
       "      <td>4085</td>\n",
       "      <td>Annual Member</td>\n",
       "      <td>2020</td>\n",
       "      <td>12</td>\n",
       "      <td>31</td>\n",
       "      <td>2020</td>\n",
       "      <td>12</td>\n",
       "      <td>31</td>\n",
       "      <td>23:54:00</td>\n",
       "      <td>23:58:00</td>\n",
       "    </tr>\n",
       "    <tr>\n",
       "      <th>2911305</th>\n",
       "      <td>10644215</td>\n",
       "      <td>204.0</td>\n",
       "      <td>7288</td>\n",
       "      <td>Humber Bay Shores Park West</td>\n",
       "      <td>7514</td>\n",
       "      <td>Humber Bay Shores Park / Marine Parade Dr</td>\n",
       "      <td>3580</td>\n",
       "      <td>Annual Member</td>\n",
       "      <td>2020</td>\n",
       "      <td>12</td>\n",
       "      <td>31</td>\n",
       "      <td>2020</td>\n",
       "      <td>12</td>\n",
       "      <td>31</td>\n",
       "      <td>23:54:00</td>\n",
       "      <td>23:58:00</td>\n",
       "    </tr>\n",
       "    <tr>\n",
       "      <th>2911306</th>\n",
       "      <td>10644216</td>\n",
       "      <td>1659.0</td>\n",
       "      <td>7270</td>\n",
       "      <td>Church St / Dundas St E - SMART</td>\n",
       "      <td>7270</td>\n",
       "      <td>Church St / Dundas St E - SMART</td>\n",
       "      <td>5137</td>\n",
       "      <td>Annual Member</td>\n",
       "      <td>2020</td>\n",
       "      <td>12</td>\n",
       "      <td>31</td>\n",
       "      <td>2021</td>\n",
       "      <td>1</td>\n",
       "      <td>1</td>\n",
       "      <td>23:56:00</td>\n",
       "      <td>00:24:00</td>\n",
       "    </tr>\n",
       "    <tr>\n",
       "      <th>2911307</th>\n",
       "      <td>10644217</td>\n",
       "      <td>63.0</td>\n",
       "      <td>7383</td>\n",
       "      <td>12 Harbour St</td>\n",
       "      <td>7383</td>\n",
       "      <td>12 Harbour St</td>\n",
       "      <td>5622</td>\n",
       "      <td>Annual Member</td>\n",
       "      <td>2020</td>\n",
       "      <td>12</td>\n",
       "      <td>31</td>\n",
       "      <td>2020</td>\n",
       "      <td>12</td>\n",
       "      <td>31</td>\n",
       "      <td>23:57:00</td>\n",
       "      <td>23:58:00</td>\n",
       "    </tr>\n",
       "  </tbody>\n",
       "</table>\n",
       "<p>2788330 rows × 16 columns</p>\n",
       "</div>"
      ],
      "text/plain": [
       "          Trip Id  Trip  Duration Start Station Id  \\\n",
       "0         7334128           648.0             7003   \n",
       "1         7334129           419.0             7007   \n",
       "2         7334130           566.0             7113   \n",
       "3         7334131          1274.0             7333   \n",
       "4         7334132           906.0             7009   \n",
       "...           ...             ...              ...   \n",
       "2911303  10644213           330.0             7010   \n",
       "2911304  10644214           216.0             7288   \n",
       "2911305  10644215           204.0             7288   \n",
       "2911306  10644216          1659.0             7270   \n",
       "2911307  10644217            63.0             7383   \n",
       "\n",
       "                      Start Station Name End Station Id  \\\n",
       "0               Madison Ave / Bloor St W           7271   \n",
       "1                  College St / Huron St           7163   \n",
       "2           Parliament St / Aberdeen Ave           7108   \n",
       "3                King St E / Victoria St           7311   \n",
       "4                  King St E / Jarvis St           7004   \n",
       "...                                  ...            ...   \n",
       "2911303          King St W / Spadina Ave           7216   \n",
       "2911304      Humber Bay Shores Park West           7514   \n",
       "2911305      Humber Bay Shores Park West           7514   \n",
       "2911306  Church St / Dundas St E - SMART           7270   \n",
       "2911307                    12 Harbour St           7383   \n",
       "\n",
       "                                  End Station Name Bike Id      User Type  \\\n",
       "0                  Yonge St / Alexander St - SMART    3104  Annual Member   \n",
       "1                               Yonge St / Wood St    2126  Annual Member   \n",
       "2                           Front St E / Cherry St    4425  Annual Member   \n",
       "3                      Sherbourne St / Isabella St    4233  Annual Member   \n",
       "4                          University Ave / Elm St    2341  Casual Member   \n",
       "...                                            ...     ...            ...   \n",
       "2911303              Wellington St W / Stafford St    3458  Annual Member   \n",
       "2911304  Humber Bay Shores Park / Marine Parade Dr    4085  Annual Member   \n",
       "2911305  Humber Bay Shores Park / Marine Parade Dr    3580  Annual Member   \n",
       "2911306            Church St / Dundas St E - SMART    5137  Annual Member   \n",
       "2911307                              12 Harbour St    5622  Annual Member   \n",
       "\n",
       "         Start Year  Start Month  Start Day  End Year  End Month  End Day  \\\n",
       "0              2020            1          1      2020          1        1   \n",
       "1              2020            1          1      2020          1        1   \n",
       "2              2020            1          1      2020          1        1   \n",
       "3              2020            1          1      2020          1        1   \n",
       "4              2020            1          1      2020          1        1   \n",
       "...             ...          ...        ...       ...        ...      ...   \n",
       "2911303        2020           12         31      2020         12       31   \n",
       "2911304        2020           12         31      2020         12       31   \n",
       "2911305        2020           12         31      2020         12       31   \n",
       "2911306        2020           12         31      2021          1        1   \n",
       "2911307        2020           12         31      2020         12       31   \n",
       "\n",
       "        Trip Start Time Trip End Time  \n",
       "0              00:08:00      00:19:00  \n",
       "1              00:10:00      00:17:00  \n",
       "2              00:13:00      00:22:00  \n",
       "3              00:17:00      00:38:00  \n",
       "4              00:19:00      00:34:00  \n",
       "...                 ...           ...  \n",
       "2911303        23:52:00      23:57:00  \n",
       "2911304        23:54:00      23:58:00  \n",
       "2911305        23:54:00      23:58:00  \n",
       "2911306        23:56:00      00:24:00  \n",
       "2911307        23:57:00      23:58:00  \n",
       "\n",
       "[2788330 rows x 16 columns]"
      ]
     },
     "execution_count": 25,
     "metadata": {},
     "output_type": "execute_result"
    }
   ],
   "source": [
    "dataset_outliersrm = df_bikeShare[~((df_bikeShare['Trip  Duration'] < (Q1 - 1.5 * IQR)) |(df_bikeShare['Trip  Duration'] > (Q3 + 1.5 * IQR)))]\n",
    "dataset_outliersrm"
   ]
  },
  {
   "cell_type": "code",
   "execution_count": 26,
   "metadata": {},
   "outputs": [],
   "source": [
    "#apply correlation to look for features to use in models\n",
    "import matplotlib.pyplot as plt\n",
    "import seaborn as sn"
   ]
  },
  {
   "cell_type": "code",
   "execution_count": 27,
   "metadata": {},
   "outputs": [
    {
     "data": {
      "image/png": "[encoded data removed]",
      "text/plain": [
       "<Figure size 432x288 with 2 Axes>"
      ]
     },
     "metadata": {
      "needs_background": "light"
     },
     "output_type": "display_data"
    }
   ],
   "source": [
    "data = dataset_outliersrm\n",
    "\n",
    "df = pd.DataFrame(data,columns=['Trip  Duration', 'Start Month', 'Start Day', 'Trip Start Time', 'Trip End Time'])\n",
    "\n",
    "corrMatrix = df.corr()\n",
    "sn.heatmap(corrMatrix, annot = True)\n",
    "plt.show()"
   ]
  },
  {
   "cell_type": "code",
   "execution_count": 28,
   "metadata": {},
   "outputs": [
    {
     "data": {
      "image/png": "[encoded data removed]",
      "text/plain": [
       "<Figure size 432x288 with 1 Axes>"
      ]
     },
     "metadata": {
      "needs_background": "light"
     },
     "output_type": "display_data"
    }
   ],
   "source": [
    "x = dataset_outliersrm['Start Month']\n",
    "plt.hist(x)\n",
    "plt.show()"
   ]
  },
  {
   "cell_type": "code",
   "execution_count": 29,
   "metadata": {},
   "outputs": [
    {
     "data": {
      "image/png": "[encoded data removed]",
      "text/plain": [
       "<Figure size 432x288 with 1 Axes>"
      ]
     },
     "metadata": {
      "needs_background": "light"
     },
     "output_type": "display_data"
    }
   ],
   "source": [
    "x = dataset_outliersrm['Trip  Duration']\n",
    "plt.hist(x)\n",
    "plt.show()"
   ]
  },
  {
   "cell_type": "code",
   "execution_count": 30,
   "metadata": {},
   "outputs": [
    {
     "data": {
      "image/png": "[encoded data removed]",
      "text/plain": [
       "<Figure size 432x288 with 1 Axes>"
      ]
     },
     "metadata": {
      "needs_background": "light"
     },
     "output_type": "display_data"
    }
   ],
   "source": [
    "x = dataset_outliersrm['Start Day']\n",
    "plt.hist(x)\n",
    "plt.show()"
   ]
  }
 ],
 "metadata": {
  "kernelspec": {
   "display_name": "Python 3",
   "language": "python",
   "name": "python3"
  },
  "language_info": {
   "codemirror_mode": {
    "name": "ipython",
    "version": 3
   },
   "file_extension": ".py",
   "mimetype": "text/x-python",
   "name": "python",
   "nbconvert_exporter": "python",
   "pygments_lexer": "ipython3",
   "version": "3.7.6"
  }
 },
 "nbformat": 4,
 "nbformat_minor": 4
}
